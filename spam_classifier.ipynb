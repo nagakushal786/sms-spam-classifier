{
 "cells": [
  {
   "cell_type": "markdown",
   "id": "3f5f5c9e",
   "metadata": {},
   "source": [
    "## SMS Spam Classifier"
   ]
  },
  {
   "cell_type": "code",
   "execution_count": null,
   "id": "b05e4199",
   "metadata": {},
   "outputs": [],
   "source": []
  }
 ],
 "metadata": {
  "kernelspec": {
   "display_name": "Python 3",
   "language": "python",
   "name": "python3"
  },
  "language_info": {
   "name": "python",
   "version": "3.12.10"
  }
 },
 "nbformat": 4,
 "nbformat_minor": 5
}
