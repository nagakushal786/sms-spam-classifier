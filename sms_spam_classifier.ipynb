{
 "cells": [
  {
   "cell_type": "markdown",
   "id": "3f5f5c9e",
   "metadata": {},
   "source": [
    "## SMS Spam Classifier"
   ]
  },
  {
   "cell_type": "code",
   "execution_count": null,
   "id": "b05e4199",
   "metadata": {},
   "outputs": [],
   "source": [
    "import numpy as np\n",
    "import pandas as pd"
   ]
  },
  {
   "cell_type": "code",
   "execution_count": null,
   "id": "f511f29b",
   "metadata": {},
   "outputs": [],
   "source": [
    "df=pd.read_csv('spam.csv')"
   ]
  },
  {
   "cell_type": "code",
   "execution_count": null,
   "id": "a755f99d",
   "metadata": {},
   "outputs": [],
   "source": [
    "df.head()"
   ]
  },
  {
   "cell_type": "code",
   "execution_count": null,
   "id": "7afb3a4b",
   "metadata": {},
   "outputs": [],
   "source": [
    "df.shape"
   ]
  },
  {
   "cell_type": "markdown",
   "id": "efeb6c36",
   "metadata": {},
   "source": [
    "### Steps to be followed:\n",
    "\n",
    "- `Data cleaning`\n",
    "\n",
    "- `EDA(Exploratory Data Analysis)`\n",
    "\n",
    "- `Text pre-processing`\n",
    "\n",
    "- `Model building`\n",
    "\n",
    "- `Evaluation`\n",
    "\n",
    "- `Improvement`\n",
    "\n",
    "- `Website Conversion`\n",
    "\n",
    "- `Deployment`"
   ]
  },
  {
   "cell_type": "markdown",
   "id": "95ecefeb",
   "metadata": {},
   "source": [
    "### Data Cleaning"
   ]
  },
  {
   "cell_type": "code",
   "execution_count": null,
   "id": "ba03b45e",
   "metadata": {},
   "outputs": [],
   "source": [
    "df.info()"
   ]
  },
  {
   "cell_type": "code",
   "execution_count": null,
   "id": "c14d8873",
   "metadata": {},
   "outputs": [],
   "source": [
    "df.rename(columns={'label': 'target', 'message': 'text'}, inplace=True)"
   ]
  },
  {
   "cell_type": "code",
   "execution_count": null,
   "id": "8a31f2a4",
   "metadata": {},
   "outputs": [],
   "source": [
    "df.head()"
   ]
  },
  {
   "cell_type": "code",
   "execution_count": null,
   "id": "1a67cec4",
   "metadata": {},
   "outputs": [],
   "source": [
    "from sklearn.preprocessing import LabelEncoder\n",
    "encoder=LabelEncoder()"
   ]
  },
  {
   "cell_type": "code",
   "execution_count": null,
   "id": "c9dd925c",
   "metadata": {},
   "outputs": [],
   "source": [
    "df['target']=encoder.fit_transform(df['target'])"
   ]
  },
  {
   "cell_type": "code",
   "execution_count": null,
   "id": "81253306",
   "metadata": {},
   "outputs": [],
   "source": [
    "df.head()"
   ]
  },
  {
   "cell_type": "code",
   "execution_count": null,
   "id": "7814a4ff",
   "metadata": {},
   "outputs": [],
   "source": [
    "# Missing values\n",
    "df.isnull().sum()"
   ]
  },
  {
   "cell_type": "code",
   "execution_count": null,
   "id": "f5567388",
   "metadata": {},
   "outputs": [],
   "source": [
    "# Duplicate values\n",
    "df.duplicated().sum()"
   ]
  },
  {
   "cell_type": "code",
   "execution_count": null,
   "id": "479916db",
   "metadata": {},
   "outputs": [],
   "source": [
    "# Remove duplicates\n",
    "df=df.drop_duplicates(keep='first')"
   ]
  },
  {
   "cell_type": "code",
   "execution_count": null,
   "id": "fc0af3d7",
   "metadata": {},
   "outputs": [],
   "source": [
    "df.head()"
   ]
  },
  {
   "cell_type": "code",
   "execution_count": null,
   "id": "cf08e320",
   "metadata": {},
   "outputs": [],
   "source": [
    "df.duplicated().sum()"
   ]
  },
  {
   "cell_type": "code",
   "execution_count": null,
   "id": "b675fa4f",
   "metadata": {},
   "outputs": [],
   "source": [
    "df.shape"
   ]
  },
  {
   "cell_type": "markdown",
   "id": "66bb47c4",
   "metadata": {},
   "source": [
    "### EDA"
   ]
  },
  {
   "cell_type": "code",
   "execution_count": null,
   "id": "8acdecf7",
   "metadata": {},
   "outputs": [],
   "source": [
    "df['target'].value_counts()"
   ]
  },
  {
   "cell_type": "code",
   "execution_count": null,
   "id": "586a5d6b",
   "metadata": {},
   "outputs": [],
   "source": [
    "import matplotlib.pyplot as plt\n",
    "plt.pie(df['target'].value_counts(), labels=['ham', 'spam'], autopct='%0.2f')\n",
    "plt.show()"
   ]
  },
  {
   "cell_type": "code",
   "execution_count": null,
   "id": "2e164aee",
   "metadata": {},
   "outputs": [],
   "source": [
    "import nltk\n",
    "nltk.download('punkt')"
   ]
  },
  {
   "cell_type": "code",
   "execution_count": null,
   "id": "8db36eaf",
   "metadata": {},
   "outputs": [],
   "source": [
    "df['num_characters']=df['text'].apply(len)"
   ]
  },
  {
   "cell_type": "code",
   "execution_count": null,
   "id": "610cd093",
   "metadata": {},
   "outputs": [],
   "source": [
    "df.head()"
   ]
  },
  {
   "cell_type": "code",
   "execution_count": null,
   "id": "f872fb1a",
   "metadata": {},
   "outputs": [],
   "source": [
    "nltk.download('punkt_tab')"
   ]
  },
  {
   "cell_type": "code",
   "execution_count": null,
   "id": "59de9724",
   "metadata": {},
   "outputs": [],
   "source": [
    "df['num_words']=df['text'].apply(lambda x: len(nltk.word_tokenize(x)))"
   ]
  },
  {
   "cell_type": "code",
   "execution_count": null,
   "id": "b31ecc4e",
   "metadata": {},
   "outputs": [],
   "source": [
    "df.head()"
   ]
  },
  {
   "cell_type": "code",
   "execution_count": null,
   "id": "1963dae1",
   "metadata": {},
   "outputs": [],
   "source": [
    "df['num_sentences']=df['text'].apply(lambda x: len(nltk.sent_tokenize(x)))"
   ]
  },
  {
   "cell_type": "code",
   "execution_count": null,
   "id": "acb15adc",
   "metadata": {},
   "outputs": [],
   "source": [
    "df.head()"
   ]
  },
  {
   "cell_type": "code",
   "execution_count": null,
   "id": "5403787e",
   "metadata": {},
   "outputs": [],
   "source": [
    "df[['num_characters', 'num_words', 'num_sentences']].describe()"
   ]
  },
  {
   "cell_type": "code",
   "execution_count": null,
   "id": "5db2385d",
   "metadata": {},
   "outputs": [],
   "source": [
    "# Ham messages\n",
    "df[df['target']==0][['num_characters', 'num_words', 'num_sentences']].describe()"
   ]
  },
  {
   "cell_type": "code",
   "execution_count": null,
   "id": "38530849",
   "metadata": {},
   "outputs": [],
   "source": [
    "# Spam messages\n",
    "df[df['target']==1][['num_characters', 'num_words', 'num_sentences']].describe()"
   ]
  },
  {
   "cell_type": "code",
   "execution_count": null,
   "id": "4a1114c5",
   "metadata": {},
   "outputs": [],
   "source": [
    "import seaborn as sns\n",
    "\n",
    "plt.figure(figsize=(12, 6))\n",
    "sns.histplot(df[df['target']==0]['num_characters'])\n",
    "sns.histplot(df[df['target']==1]['num_characters'], color='red')\n",
    "plt.show()"
   ]
  },
  {
   "cell_type": "code",
   "execution_count": null,
   "id": "a4f2bcaa",
   "metadata": {},
   "outputs": [],
   "source": [
    "plt.figure(figsize=(12, 6))\n",
    "sns.histplot(df[df['target']==0]['num_words'])\n",
    "sns.histplot(df[df['target']==1]['num_words'], color='red')\n",
    "plt.show()"
   ]
  },
  {
   "cell_type": "code",
   "execution_count": null,
   "id": "ef937379",
   "metadata": {},
   "outputs": [],
   "source": [
    "plt.figure(figsize=(12, 6))\n",
    "sns.histplot(df[df['target']==0]['num_sentences'])\n",
    "sns.histplot(df[df['target']==1]['num_sentences'], color='red')\n",
    "plt.show()"
   ]
  },
  {
   "cell_type": "code",
   "execution_count": null,
   "id": "8a2c7aa8",
   "metadata": {},
   "outputs": [],
   "source": [
    "sns.pairplot(df, hue='target')"
   ]
  },
  {
   "cell_type": "code",
   "execution_count": null,
   "id": "87ab7d42",
   "metadata": {},
   "outputs": [],
   "source": [
    "df.corr(numeric_only=True)"
   ]
  },
  {
   "cell_type": "code",
   "execution_count": null,
   "id": "66c1c274",
   "metadata": {},
   "outputs": [],
   "source": [
    "sns.heatmap(df.corr(numeric_only=True), annot=True)"
   ]
  },
  {
   "cell_type": "markdown",
   "id": "8c06ec2d",
   "metadata": {},
   "source": [
    "### Text Pre-Processing\n",
    "\n",
    "- `Lowercase`\n",
    "\n",
    "- `Tokenization`\n",
    "\n",
    "- `Removing special characters`\n",
    "\n",
    "- `Removing stop words and punctuation`\n",
    "\n",
    "- `Stemming`"
   ]
  },
  {
   "cell_type": "code",
   "execution_count": null,
   "id": "b13f348e",
   "metadata": {},
   "outputs": [],
   "source": [
    "nltk.download('stopwords')"
   ]
  },
  {
   "cell_type": "code",
   "execution_count": null,
   "id": "77f11662",
   "metadata": {},
   "outputs": [],
   "source": [
    "import string\n",
    "\n",
    "def transform_text(text):\n",
    "    # Converting text to lower case\n",
    "    text=text.lower()\n",
    "    # Tokenizing text to words\n",
    "    text=nltk.word_tokenize(text)\n",
    "    \n",
    "    # Removing special characters\n",
    "    y=[]\n",
    "    for i in text:\n",
    "        if i.isalnum():\n",
    "            y.append(i)\n",
    "    \n",
    "    text=y[:]\n",
    "    y.clear()\n",
    "    \n",
    "    # Removing stop words and punctuations\n",
    "    for i in text:\n",
    "        if i not in nltk.corpus.stopwords.words('english') and i not in string.punctuation:\n",
    "            y.append(i)\n",
    "    \n",
    "    text=y[:]\n",
    "    y.clear()\n",
    "    \n",
    "    # Stemming\n",
    "    from nltk.stem.porter import PorterStemmer\n",
    "    ps=PorterStemmer()\n",
    "    for i in text:\n",
    "        y.append(ps.stem(i))\n",
    "    \n",
    "    return \" \".join(y)"
   ]
  },
  {
   "cell_type": "code",
   "execution_count": null,
   "id": "a793be79",
   "metadata": {},
   "outputs": [],
   "source": [
    "print(transform_text(df['text'][0]))"
   ]
  },
  {
   "cell_type": "code",
   "execution_count": null,
   "id": "f1b24869",
   "metadata": {},
   "outputs": [],
   "source": [
    "df['transformed_text']=df['text'].apply(transform_text)"
   ]
  },
  {
   "cell_type": "code",
   "execution_count": null,
   "id": "ce7cd1ef",
   "metadata": {},
   "outputs": [],
   "source": [
    "df.head()"
   ]
  },
  {
   "cell_type": "code",
   "execution_count": null,
   "id": "f8f868ce",
   "metadata": {},
   "outputs": [],
   "source": [
    "# Preparing word clouds\n",
    "from wordcloud import WordCloud\n",
    "wc=WordCloud(\n",
    "    width=500,\n",
    "    height=500,\n",
    "    min_font_size=10,\n",
    "    background_color='white'\n",
    ")"
   ]
  },
  {
   "cell_type": "code",
   "execution_count": null,
   "id": "67628118",
   "metadata": {},
   "outputs": [],
   "source": [
    "spam_wc=wc.generate(df[df['target']==1]['transformed_text'].str.cat(sep=\" \"))"
   ]
  },
  {
   "cell_type": "code",
   "execution_count": null,
   "id": "6b5f10ce",
   "metadata": {},
   "outputs": [],
   "source": [
    "plt.imshow(spam_wc)"
   ]
  },
  {
   "cell_type": "code",
   "execution_count": null,
   "id": "47e56171",
   "metadata": {},
   "outputs": [],
   "source": [
    "ham_wc=wc.generate(df[df['target']==0]['transformed_text'].str.cat(sep=\" \"))"
   ]
  },
  {
   "cell_type": "code",
   "execution_count": null,
   "id": "7aed21b4",
   "metadata": {},
   "outputs": [],
   "source": [
    "plt.imshow(ham_wc)"
   ]
  },
  {
   "cell_type": "code",
   "execution_count": null,
   "id": "5e5464d5",
   "metadata": {},
   "outputs": [],
   "source": [
    "spam_corpus=[]\n",
    "\n",
    "for msg in df[df['target']==1]['transformed_text'].tolist():\n",
    "    for word in msg.split():\n",
    "        spam_corpus.append(word)"
   ]
  },
  {
   "cell_type": "code",
   "execution_count": null,
   "id": "f79320b4",
   "metadata": {},
   "outputs": [],
   "source": [
    "len(spam_corpus)"
   ]
  },
  {
   "cell_type": "code",
   "execution_count": null,
   "id": "b5d2347d",
   "metadata": {},
   "outputs": [],
   "source": [
    "from collections import Counter\n",
    "spam_corpus_dict_freq=dict(Counter(spam_corpus).most_common(30))\n",
    "print(spam_corpus_dict_freq)"
   ]
  },
  {
   "cell_type": "code",
   "execution_count": null,
   "id": "8a9d2ecd",
   "metadata": {},
   "outputs": [],
   "source": [
    "spam_df=pd.DataFrame(Counter(spam_corpus).most_common(30))\n",
    "spam_df.columns=['word', 'count']\n",
    "\n",
    "sns.barplot(\n",
    "    x='word',\n",
    "    y='count',\n",
    "    data=spam_df\n",
    ")\n",
    "\n",
    "plt.xticks(rotation='vertical')\n",
    "plt.show()"
   ]
  },
  {
   "cell_type": "code",
   "execution_count": null,
   "id": "6db57866",
   "metadata": {},
   "outputs": [],
   "source": [
    "ham_corpus=[]\n",
    "\n",
    "for msg in df[df['target']==0]['transformed_text'].tolist():\n",
    "    for word in msg.split():\n",
    "        ham_corpus.append(word)"
   ]
  },
  {
   "cell_type": "code",
   "execution_count": null,
   "id": "3b4103aa",
   "metadata": {},
   "outputs": [],
   "source": [
    "ham_corpus_dict_freq=dict(Counter(ham_corpus).most_common(30))\n",
    "print(ham_corpus_dict_freq)"
   ]
  },
  {
   "cell_type": "code",
   "execution_count": null,
   "id": "9f056a5f",
   "metadata": {},
   "outputs": [],
   "source": [
    "ham_df=pd.DataFrame(Counter(ham_corpus).most_common(30))\n",
    "ham_df.columns=['word', 'count']\n",
    "\n",
    "sns.barplot(\n",
    "    x='word',\n",
    "    y='count',\n",
    "    data=ham_df\n",
    ")\n",
    "\n",
    "plt.xticks(rotation='vertical')\n",
    "plt.show()"
   ]
  },
  {
   "cell_type": "markdown",
   "id": "e91e8d60",
   "metadata": {},
   "source": [
    "### Model Building"
   ]
  },
  {
   "cell_type": "code",
   "execution_count": null,
   "id": "a43e7d05",
   "metadata": {},
   "outputs": [],
   "source": [
    "# from sklearn.feature_extraction.text import CountVectorizer\n",
    "# cv=CountVectorizer()"
   ]
  },
  {
   "cell_type": "code",
   "execution_count": null,
   "id": "9697845c",
   "metadata": {},
   "outputs": [],
   "source": [
    "# x=cv.fit_transform(df['transformed_text']).toarray()\n",
    "# y=df['target'].values"
   ]
  },
  {
   "cell_type": "code",
   "execution_count": null,
   "id": "c07e39c4",
   "metadata": {},
   "outputs": [],
   "source": [
    "# print(x.shape)"
   ]
  },
  {
   "cell_type": "code",
   "execution_count": null,
   "id": "35675f3d",
   "metadata": {},
   "outputs": [],
   "source": [
    "# print(y.shape)"
   ]
  },
  {
   "cell_type": "code",
   "execution_count": null,
   "id": "47930264",
   "metadata": {},
   "outputs": [],
   "source": [
    "from sklearn.model_selection import train_test_split\n",
    "# x_train, x_test, y_train, y_test=train_test_split(\n",
    "#     x, y,\n",
    "#     test_size=0.2,\n",
    "#     random_state=2\n",
    "# )"
   ]
  },
  {
   "cell_type": "code",
   "execution_count": null,
   "id": "7b62fe89",
   "metadata": {},
   "outputs": [],
   "source": [
    "from sklearn.naive_bayes import GaussianNB, MultinomialNB, BernoulliNB\n",
    "\n",
    "gnb=GaussianNB()\n",
    "mnb=MultinomialNB()\n",
    "bnb=BernoulliNB()"
   ]
  },
  {
   "cell_type": "code",
   "execution_count": null,
   "id": "a109335f",
   "metadata": {},
   "outputs": [],
   "source": [
    "from sklearn.metrics import accuracy_score, confusion_matrix, precision_score"
   ]
  },
  {
   "cell_type": "code",
   "execution_count": null,
   "id": "d7728235",
   "metadata": {},
   "outputs": [],
   "source": [
    "# gnb.fit(x_train, y_train)\n",
    "# y_pred_gnb=gnb.predict(x_test)\n",
    "\n",
    "# print(accuracy_score(y_test, y_pred_gnb))\n",
    "# print(confusion_matrix(y_test, y_pred_gnb))\n",
    "# print(precision_score(y_test, y_pred_gnb))"
   ]
  },
  {
   "cell_type": "code",
   "execution_count": null,
   "id": "a1a2a99d",
   "metadata": {},
   "outputs": [],
   "source": [
    "# mnb.fit(x_train, y_train)\n",
    "# y_pred_mnb=mnb.predict(x_test)\n",
    "\n",
    "# print(accuracy_score(y_test, y_pred_mnb))\n",
    "# print(confusion_matrix(y_test, y_pred_mnb))\n",
    "# print(precision_score(y_test, y_pred_mnb))"
   ]
  },
  {
   "cell_type": "code",
   "execution_count": null,
   "id": "e726c8d2",
   "metadata": {},
   "outputs": [],
   "source": [
    "# bnb.fit(x_train, y_train)\n",
    "# y_pred_bnb=bnb.predict(x_test)\n",
    "\n",
    "# print(accuracy_score(y_test, y_pred_bnb))\n",
    "# print(confusion_matrix(y_test, y_pred_bnb))\n",
    "# print(precision_score(y_test, y_pred_bnb))"
   ]
  },
  {
   "cell_type": "code",
   "execution_count": null,
   "id": "cccd3971",
   "metadata": {},
   "outputs": [],
   "source": [
    "from sklearn.feature_extraction.text import TfidfVectorizer\n",
    "tfidf=TfidfVectorizer()"
   ]
  },
  {
   "cell_type": "code",
   "execution_count": null,
   "id": "2fc24c90",
   "metadata": {},
   "outputs": [],
   "source": [
    "x_tfidf=tfidf.fit_transform(df['transformed_text']).toarray()\n",
    "y_tfidf=df['target'].values"
   ]
  },
  {
   "cell_type": "code",
   "execution_count": null,
   "id": "3383b5f7",
   "metadata": {},
   "outputs": [],
   "source": [
    "x_tfidf_train, x_tfidf_test, y_tfidf_train, y_tfidf_test=train_test_split(\n",
    "    x_tfidf, y_tfidf,\n",
    "    test_size=0.2,\n",
    "    random_state=2\n",
    ")"
   ]
  },
  {
   "cell_type": "code",
   "execution_count": null,
   "id": "b043bdf4",
   "metadata": {},
   "outputs": [],
   "source": [
    "gnb.fit(x_tfidf_train, y_tfidf_train)\n",
    "y_pred_gnb=gnb.predict(x_tfidf_test)\n",
    "\n",
    "print(accuracy_score(y_tfidf_test, y_pred_gnb))\n",
    "print(confusion_matrix(y_tfidf_test, y_pred_gnb))\n",
    "print(precision_score(y_tfidf_test, y_pred_gnb))"
   ]
  },
  {
   "cell_type": "code",
   "execution_count": null,
   "id": "779814c5",
   "metadata": {},
   "outputs": [],
   "source": [
    "mnb.fit(x_tfidf_train, y_tfidf_train)\n",
    "y_pred_mnb=mnb.predict(x_tfidf_test)\n",
    "\n",
    "print(accuracy_score(y_tfidf_test, y_pred_mnb))\n",
    "print(confusion_matrix(y_tfidf_test, y_pred_mnb))\n",
    "print(precision_score(y_tfidf_test, y_pred_mnb))"
   ]
  },
  {
   "cell_type": "code",
   "execution_count": null,
   "id": "9fddf1f3",
   "metadata": {},
   "outputs": [],
   "source": [
    "bnb.fit(x_tfidf_train, y_tfidf_train)\n",
    "y_pred_bnb=bnb.predict(x_tfidf_test)\n",
    "\n",
    "print(accuracy_score(y_tfidf_test, y_pred_bnb))\n",
    "print(confusion_matrix(y_tfidf_test, y_pred_bnb))\n",
    "print(precision_score(y_tfidf_test, y_pred_bnb))"
   ]
  },
  {
   "cell_type": "markdown",
   "id": "35f9ad13",
   "metadata": {},
   "source": [
    "- `Vecotorizer`: tfidf\n",
    "\n",
    "- `Bayesian model`: mnb"
   ]
  },
  {
   "cell_type": "code",
   "execution_count": null,
   "id": "b9a5bf46",
   "metadata": {},
   "outputs": [],
   "source": [
    "# from sklearn.linear_model import LogisticRegression\n",
    "# from sklearn.svm import SVC\n",
    "# from sklearn.naive_bayes import MultinomialNB\n",
    "# from sklearn.tree import DecisionTreeClassifier\n",
    "# from sklearn.neighbors import KNeighborsClassifier\n",
    "# from sklearn.ensemble import RandomForestClassifier\n",
    "# from sklearn.ensemble import AdaBoostClassifier\n",
    "# from sklearn.ensemble import BaggingClassifier\n",
    "# from sklearn.ensemble import ExtraTreesClassifier\n",
    "# from sklearn.ensemble import GradientBoostingClassifier\n",
    "# from xgboost import XGBClassifier"
   ]
  },
  {
   "cell_type": "code",
   "execution_count": null,
   "id": "5325e094",
   "metadata": {},
   "outputs": [],
   "source": [
    "# svc=SVC(kernel='sigmoid', gamma=1.0)\n",
    "# knc=KNeighborsClassifier()\n",
    "# mnb=MultinomialNB()\n",
    "# dtc=DecisionTreeClassifier(max_depth=5)\n",
    "# lrc=LogisticRegression(solver='liblinear', penalty='l1')\n",
    "# rfc=RandomForestClassifier(n_estimators=50, random_state=2)\n",
    "# adc=AdaBoostClassifier(n_estimators=50, random_state=2)\n",
    "# bgc=BaggingClassifier(n_estimators=50, random_state=2)\n",
    "# etc=ExtraTreesClassifier(n_estimators=50, random_state=2)\n",
    "# gbc=GradientBoostingClassifier(n_estimators=50, random_state=2)\n",
    "# xgb=XGBClassifier(n_estimators=50, random_state=2)"
   ]
  },
  {
   "cell_type": "code",
   "execution_count": null,
   "id": "a4374f3d",
   "metadata": {},
   "outputs": [],
   "source": [
    "# clfs={\n",
    "#     'SVC': svc,\n",
    "#     'KNC': knc,\n",
    "#     'MNB': mnb,\n",
    "#     'DTC': dtc,\n",
    "#     'LRC': lrc,\n",
    "#     'RFC': rfc,\n",
    "#     'ADC': adc,\n",
    "#     'BGC': bgc,\n",
    "#     'ETC': etc,\n",
    "#     'GBC': gbc,\n",
    "#     'XGB': xgb\n",
    "# }"
   ]
  },
  {
   "cell_type": "code",
   "execution_count": null,
   "id": "55f7002c",
   "metadata": {},
   "outputs": [],
   "source": [
    "# def train_classifier(clf, x_train, y_train, x_test, y_test):\n",
    "#     clf.fit(x_train, y_train)\n",
    "#     y_pred=clf.predict(x_test)\n",
    "    \n",
    "#     accuracy=accuracy_score(y_test, y_pred)\n",
    "#     precision=precision_score(y_test, y_pred)\n",
    "#     return accuracy, precision"
   ]
  },
  {
   "cell_type": "code",
   "execution_count": null,
   "id": "b57fc357",
   "metadata": {},
   "outputs": [],
   "source": [
    "# train_classifier(svc, x_tfidf_train, y_tfidf_train, x_tfidf_test, y_tfidf_test)"
   ]
  },
  {
   "cell_type": "code",
   "execution_count": null,
   "id": "8d036850",
   "metadata": {},
   "outputs": [],
   "source": [
    "# acc_scores=[]\n",
    "# prec_scores=[]\n",
    "\n",
    "# for name, clf in clfs.items():\n",
    "#     curr_acc, curr_prec=train_classifier(\n",
    "#         clf,\n",
    "#         x_tfidf_train, y_tfidf_train,\n",
    "#         x_tfidf_test, y_tfidf_test\n",
    "#     )\n",
    "\n",
    "#     print(f'For {name} accuracy is {curr_acc} and precision is {curr_prec}')\n",
    "#     acc_scores.append(curr_acc)\n",
    "#     prec_scores.append(curr_prec)"
   ]
  },
  {
   "cell_type": "code",
   "execution_count": null,
   "id": "aef19e16",
   "metadata": {},
   "outputs": [],
   "source": [
    "# performance_df=pd.DataFrame({\n",
    "#     'Algorithm': clfs.keys(),\n",
    "#     'Accuracy': acc_scores,\n",
    "#     'Precision': prec_scores\n",
    "# })"
   ]
  },
  {
   "cell_type": "code",
   "execution_count": null,
   "id": "437350cf",
   "metadata": {},
   "outputs": [],
   "source": [
    "# performance_df.sort_values(by='Accuracy', ascending=False)"
   ]
  },
  {
   "cell_type": "code",
   "execution_count": null,
   "id": "47f06090",
   "metadata": {},
   "outputs": [],
   "source": [
    "# performance_df.sort_values(by='Precision', ascending=False)"
   ]
  },
  {
   "cell_type": "code",
   "execution_count": null,
   "id": "3702aac3",
   "metadata": {},
   "outputs": [],
   "source": [
    "# sns.catplot(\n",
    "#     x='Algorithm',\n",
    "#     y='value',\n",
    "#     hue='variable',\n",
    "#     data=performance_df.melt(id_vars='Algorithm'),\n",
    "#     kind='bar',\n",
    "#     height=5\n",
    "# )\n",
    "\n",
    "# plt.ylim(0.5, 1.0)\n",
    "# plt.xticks(rotation='vertical')\n",
    "# plt.show()"
   ]
  },
  {
   "cell_type": "markdown",
   "id": "0b045c0e",
   "metadata": {},
   "source": [
    "### Improving Model"
   ]
  },
  {
   "cell_type": "markdown",
   "id": "8a8dd751",
   "metadata": {},
   "source": [
    "#### Updating `max_features` in TfidfVectorizer"
   ]
  },
  {
   "cell_type": "code",
   "execution_count": null,
   "id": "82f27fc4",
   "metadata": {},
   "outputs": [],
   "source": [
    "# tfidf=TfidfVectorizer(max_features=3000)"
   ]
  },
  {
   "cell_type": "code",
   "execution_count": null,
   "id": "e87d2a32",
   "metadata": {},
   "outputs": [],
   "source": [
    "# x=tfidf.fit_transform(df['transformed_text']).toarray()"
   ]
  },
  {
   "cell_type": "markdown",
   "id": "36d20ce3",
   "metadata": {},
   "source": [
    "#### Applying `min_max_scaling` on x"
   ]
  },
  {
   "cell_type": "code",
   "execution_count": null,
   "id": "e26ffb54",
   "metadata": {},
   "outputs": [],
   "source": [
    "# from sklearn.preprocessing import MinMaxScaler\n",
    "# scaler=MinMaxScaler()\n",
    "# x=scaler.fit_transform(x)"
   ]
  },
  {
   "cell_type": "markdown",
   "id": "92fb3b1b",
   "metadata": {},
   "source": [
    "#### Appending `num_character` column to x"
   ]
  },
  {
   "cell_type": "code",
   "execution_count": null,
   "id": "25e48d51",
   "metadata": {},
   "outputs": [],
   "source": [
    "# x=np.hstack((x, df['num_characters'].values.reshape(-1, 1)))"
   ]
  },
  {
   "cell_type": "markdown",
   "id": "f5057475",
   "metadata": {},
   "source": [
    "### Voting Classifier"
   ]
  },
  {
   "cell_type": "code",
   "execution_count": null,
   "id": "0fd286e4",
   "metadata": {},
   "outputs": [],
   "source": [
    "# from sklearn.ensemble import VotingClassifier\n",
    "\n",
    "# svc=SVC(kernel='sigmoid', gamma=1.0, probability=True)\n",
    "# mnb=MultinomialNB()\n",
    "# etc=ExtraTreesClassifier(n_estimators=50, random_state=2)"
   ]
  },
  {
   "cell_type": "code",
   "execution_count": null,
   "id": "0b7e32e8",
   "metadata": {},
   "outputs": [],
   "source": [
    "# voting=VotingClassifier(\n",
    "#     estimators=[('svc', svc), ('mnb', mnb), ('etc', etc)],\n",
    "#     voting='soft'\n",
    "# )"
   ]
  },
  {
   "cell_type": "code",
   "execution_count": null,
   "id": "3b02b873",
   "metadata": {},
   "outputs": [],
   "source": [
    "# voting.fit(x_tfidf_train, y_tfidf_train)"
   ]
  },
  {
   "cell_type": "code",
   "execution_count": null,
   "id": "e50c10c6",
   "metadata": {},
   "outputs": [],
   "source": [
    "# y_pred=voting.predict(x_tfidf_test)\n",
    "# print(accuracy_score(y_tfidf_test, y_pred))\n",
    "# print(precision_score(y_tfidf_test, y_pred))"
   ]
  },
  {
   "cell_type": "markdown",
   "id": "3b366907",
   "metadata": {},
   "source": [
    "### Stacking Classifier"
   ]
  },
  {
   "cell_type": "code",
   "execution_count": null,
   "id": "93167968",
   "metadata": {},
   "outputs": [],
   "source": [
    "# final_estimator=RandomForestClassifier()\n",
    "# estimators=[('svc', svc), ('mnb', mnb), ('etc', etc)]"
   ]
  },
  {
   "cell_type": "code",
   "execution_count": null,
   "id": "672f6007",
   "metadata": {},
   "outputs": [],
   "source": [
    "# from sklearn.ensemble import StackingClassifier\n",
    "# clf=StackingClassifier(\n",
    "#     estimators=estimators,\n",
    "#     final_estimator=final_estimator\n",
    "# )"
   ]
  },
  {
   "cell_type": "code",
   "execution_count": null,
   "id": "aac7db61",
   "metadata": {},
   "outputs": [],
   "source": [
    "# clf.fit(x_tfidf_train, y_tfidf_train)\n",
    "# y_pred=clf.predict(x_tfidf_test)\n",
    "\n",
    "# print(accuracy_score(y_tfidf_test, y_pred))\n",
    "# print(precision_score(y_tfidf_test, y_pred))"
   ]
  },
  {
   "cell_type": "code",
   "execution_count": null,
   "id": "20600171",
   "metadata": {},
   "outputs": [],
   "source": [
    "import pickle\n",
    "\n",
    "pickle.dump(tfidf, open('vectorizer.pkl', 'wb'))\n",
    "pickle.dump(mnb, open('model.pkl', 'wb'))"
   ]
  }
 ],
 "metadata": {
  "kernelspec": {
   "display_name": "Python 3",
   "language": "python",
   "name": "python3"
  },
  "language_info": {
   "codemirror_mode": {
    "name": "ipython",
    "version": 3
   },
   "file_extension": ".py",
   "mimetype": "text/x-python",
   "name": "python",
   "nbconvert_exporter": "python",
   "pygments_lexer": "ipython3",
   "version": "3.12.10"
  }
 },
 "nbformat": 4,
 "nbformat_minor": 5
}
